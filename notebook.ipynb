{
 "cells": [
  {
   "cell_type": "code",
   "execution_count": 182,
   "metadata": {},
   "outputs": [
    {
     "name": "stdout",
     "output_type": "stream",
     "text": [
      "The autoreload extension is already loaded. To reload it, use:\n",
      "  %reload_ext autoreload\n"
     ]
    }
   ],
   "source": [
    "%load_ext autoreload\n",
    "%autoreload 2"
   ]
  },
  {
   "cell_type": "code",
   "execution_count": 183,
   "metadata": {},
   "outputs": [],
   "source": [
    "# Import Modules\n",
    "from patterns import *\n",
    "from stock_history import *"
   ]
  },
  {
   "cell_type": "code",
   "execution_count": 184,
   "metadata": {},
   "outputs": [],
   "source": [
    "# Get stock price history\n",
    "x = Patterns(\"AAPL\")\n",
    "x.getHistory()"
   ]
  },
  {
   "cell_type": "code",
   "execution_count": 185,
   "metadata": {},
   "outputs": [
    {
     "name": "stderr",
     "output_type": "stream",
     "text": [
      "c:\\Users\\Alishan\\Desktop\\Python Projects\\Candle Pattern Analysis\\CandlePatterns\\patterns.py:166: RuntimeWarning: divide by zero encountered in double_scalars\n",
      "  \n",
      "c:\\Users\\Alishan\\Desktop\\Python Projects\\Candle Pattern Analysis\\CandlePatterns\\patterns.py:166: RuntimeWarning: invalid value encountered in double_scalars\n",
      "  \n",
      "c:\\Users\\Alishan\\Desktop\\Python Projects\\Candle Pattern Analysis\\CandlePatterns\\patterns.py:167: RuntimeWarning: invalid value encountered in double_scalars\n",
      "  def hammerFlag(self):\n",
      "c:\\Users\\Alishan\\Desktop\\Python Projects\\Candle Pattern Analysis\\CandlePatterns\\patterns.py:167: RuntimeWarning: divide by zero encountered in double_scalars\n",
      "  def hammerFlag(self):\n"
     ]
    }
   ],
   "source": [
    "# Calculate and append columns for patterns\n",
    "# x.flagType()\n",
    "# x.longFlag()\n",
    "# x.shortFlag()\n",
    "# x.bearishMarubozuFlag()\n",
    "# x.bullishMarubozuFlag()\n",
    "# x.bearishOpeningMarubozuFlag()\n",
    "# x.bullishOpeningMarubozuFlag()\n",
    "# x.bearishClosingMarubozuFlag()\n",
    "# x.bullishClosingMarubozuFlag()\n",
    "# x.SpinningTopFlag()\n",
    "# x.dojiFlag()\n",
    "x.longLeggedDojiFlag()\n",
    "# print(x.data.loc[:, [\"Date\", \"Type\", \"LongFlag\", \"ShortFlag\", \"MarubozuFlag\"]].tail(50))\n",
    "#print(x.data.loc[x.data.LongLeggedDojiFlag == 1, [\"Date\", \"Type\", \"Open\",\"High\", \"Low\", \"Close\"]])\n",
    "# Apply Labels"
   ]
  },
  {
   "cell_type": "code",
   "execution_count": 186,
   "metadata": {},
   "outputs": [],
   "source": [
    "# Setup Neural Net\n",
    "\n",
    "# Train Neural Net\n",
    "\n",
    "# Test and Validate Neural Net"
   ]
  },
  {
   "cell_type": "code",
   "execution_count": 187,
   "metadata": {},
   "outputs": [],
   "source": [
    "\n",
    "x.data.to_csv(\"check.csv\")"
   ]
  }
 ],
 "metadata": {
  "kernelspec": {
   "display_name": "Python 3.10.8 ('venv')",
   "language": "python",
   "name": "python3"
  },
  "language_info": {
   "codemirror_mode": {
    "name": "ipython",
    "version": 3
   },
   "file_extension": ".py",
   "mimetype": "text/x-python",
   "name": "python",
   "nbconvert_exporter": "python",
   "pygments_lexer": "ipython3",
   "version": "3.10.8"
  },
  "orig_nbformat": 4,
  "vscode": {
   "interpreter": {
    "hash": "8cc3aad154627906b8252fb51fabcf28c7246c9f868706c9d36e8808cb6bf521"
   }
  }
 },
 "nbformat": 4,
 "nbformat_minor": 2
}
