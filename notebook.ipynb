{
 "cells": [
  {
   "cell_type": "code",
   "execution_count": 29,
   "metadata": {},
   "outputs": [
    {
     "name": "stdout",
     "output_type": "stream",
     "text": [
      "The autoreload extension is already loaded. To reload it, use:\n",
      "  %reload_ext autoreload\n"
     ]
    }
   ],
   "source": [
    "%load_ext autoreload\n",
    "%autoreload 2"
   ]
  },
  {
   "cell_type": "code",
   "execution_count": 30,
   "metadata": {},
   "outputs": [],
   "source": [
    "# Import Modules\n",
    "from patterns import *\n",
    "from stock_history import *\n",
    "from metrics import *"
   ]
  },
  {
   "cell_type": "code",
   "execution_count": 31,
   "metadata": {},
   "outputs": [],
   "source": [
    "# Get stock price history\n",
    "x = Patterns(\"AAPL\")\n",
    "x.getHistory()\n"
   ]
  },
  {
   "cell_type": "code",
   "execution_count": 32,
   "metadata": {},
   "outputs": [
    {
     "name": "stderr",
     "output_type": "stream",
     "text": [
      "c:\\Users\\Alishan\\Desktop\\Python Projects\\Candle Pattern Analysis\\CandlePatterns\\patterns.py:417: RuntimeWarning: divide by zero encountered in double_scalars\n",
      "  (self.data.loc[i, \"High\"] - max_body[i]) / (min_body[i] - self.data.loc[i, \"Low\"])\n",
      "c:\\Users\\Alishan\\Desktop\\Python Projects\\Candle Pattern Analysis\\CandlePatterns\\patterns.py:417: RuntimeWarning: invalid value encountered in double_scalars\n",
      "  (self.data.loc[i, \"High\"] - max_body[i]) / (min_body[i] - self.data.loc[i, \"Low\"])\n",
      "c:\\Users\\Alishan\\Desktop\\Python Projects\\Candle Pattern Analysis\\CandlePatterns\\patterns.py:421: RuntimeWarning: invalid value encountered in double_scalars\n",
      "  (max_body[i] - min_body[i]) / (self.data.loc[i, \"High\"] - self.data.loc[i, \"Low\"])\n",
      "c:\\Users\\Alishan\\Desktop\\Python Projects\\Candle Pattern Analysis\\CandlePatterns\\patterns.py:421: RuntimeWarning: divide by zero encountered in double_scalars\n",
      "  (max_body[i] - min_body[i]) / (self.data.loc[i, \"High\"] - self.data.loc[i, \"Low\"])\n"
     ]
    },
    {
     "name": "stdout",
     "output_type": "stream",
     "text": [
      "                          Date       Open       High        Low      Close\n",
      "5603 2003-02-24 00:00:00-05:00   0.226195   0.228783   0.210060   0.224368\n",
      "9371 2018-02-09 00:00:00-05:00  37.491699  37.687426  35.861417  37.334160\n"
     ]
    }
   ],
   "source": [
    "# Calculate and append columns for patterns\n",
    "# x.flagType()\n",
    "# x.longFlag()\n",
    "# x.shortFlag()\n",
    "# x.bearishMarubozuFlag()\n",
    "# x.bullishMarubozuFlag()\n",
    "# x.bearishOpeningMarubozuFlag()\n",
    "# x.bullishOpeningMarubozuFlag()\n",
    "# x.bearishClosingMarubozuFlag()\n",
    "# x.bullishClosingMarubozuFlag()\n",
    "# x.SpinningTopFlag()\n",
    "# x.dojiFlag()\n",
    "x.hammerFlag(alpha = 1.5)\n",
    "# print(x.data.loc[:, [\"Date\", \"Type\", \"LongFlag\", \"ShortFlag\", \"MarubozuFlag\"]].tail(50))\n",
    "print(x.data.loc[x.data.HammerFlag == 1, [\"Date\", \"Open\",\"High\", \"Low\", \"Close\"]])\n",
    "# Apply Labels"
   ]
  },
  {
   "cell_type": "code",
   "execution_count": 33,
   "metadata": {},
   "outputs": [],
   "source": [
    "# Setup Neural Net\n",
    "\n",
    "# Train Neural Net\n",
    "\n",
    "# Test and Validate Neural Net"
   ]
  },
  {
   "cell_type": "code",
   "execution_count": 34,
   "metadata": {},
   "outputs": [],
   "source": [
    "\n",
    "#x.data.to_csv(\"check.csv\")"
   ]
  }
 ],
 "metadata": {
  "kernelspec": {
   "display_name": "Python 3.10.8 ('venv')",
   "language": "python",
   "name": "python3"
  },
  "language_info": {
   "codemirror_mode": {
    "name": "ipython",
    "version": 3
   },
   "file_extension": ".py",
   "mimetype": "text/x-python",
   "name": "python",
   "nbconvert_exporter": "python",
   "pygments_lexer": "ipython3",
   "version": "3.10.8"
  },
  "orig_nbformat": 4,
  "vscode": {
   "interpreter": {
    "hash": "8cc3aad154627906b8252fb51fabcf28c7246c9f868706c9d36e8808cb6bf521"
   }
  }
 },
 "nbformat": 4,
 "nbformat_minor": 2
}
