{
 "cells": [
  {
   "cell_type": "code",
   "execution_count": 76,
   "metadata": {},
   "outputs": [
    {
     "name": "stdout",
     "output_type": "stream",
     "text": [
      "The autoreload extension is already loaded. To reload it, use:\n",
      "  %reload_ext autoreload\n"
     ]
    }
   ],
   "source": [
    "%load_ext autoreload\n",
    "%autoreload 2"
   ]
  },
  {
   "cell_type": "code",
   "execution_count": 77,
   "metadata": {},
   "outputs": [],
   "source": [
    "# Import Modules\n",
    "from patterns import *\n",
    "from stock_history import *"
   ]
  },
  {
   "cell_type": "code",
   "execution_count": 78,
   "metadata": {},
   "outputs": [],
   "source": [
    "# Get stock price history\n",
    "x = Patterns(\"AAPL\")\n",
    "x.getHistory()"
   ]
  },
  {
   "cell_type": "code",
   "execution_count": 70,
   "metadata": {},
   "outputs": [
    {
     "name": "stderr",
     "output_type": "stream",
     "text": [
      "c:\\Users\\adhukka\\Desktop\\Projects\\dev\\CandlePatterns\\candle_patterns\\patterns.py:347: RuntimeWarning: divide by zero encountered in double_scalars\n",
      "  (self.data.loc[i, \"High\"] - max_body[i]) / (min_body[i] - self.data.loc[i, \"Low\"])\n",
      "c:\\Users\\adhukka\\Desktop\\Projects\\dev\\CandlePatterns\\candle_patterns\\patterns.py:347: RuntimeWarning: invalid value encountered in double_scalars\n",
      "  (self.data.loc[i, \"High\"] - max_body[i]) / (min_body[i] - self.data.loc[i, \"Low\"])\n",
      "c:\\Users\\adhukka\\Desktop\\Projects\\dev\\CandlePatterns\\candle_patterns\\patterns.py:351: RuntimeWarning: invalid value encountered in double_scalars\n",
      "  (max_body[i] - min_body[i]) / (self.data.loc[i, \"High\"] - self.data.loc[i, \"Low\"])\n",
      "c:\\Users\\adhukka\\Desktop\\Projects\\dev\\CandlePatterns\\candle_patterns\\patterns.py:351: RuntimeWarning: divide by zero encountered in double_scalars\n",
      "  (max_body[i] - min_body[i]) / (self.data.loc[i, \"High\"] - self.data.loc[i, \"Low\"])\n"
     ]
    },
    {
     "name": "stdout",
     "output_type": "stream",
     "text": [
      "                           Date        Open        High         Low  \\\n",
      "792   1984-01-31 00:00:00-05:00    0.085978    0.087715    0.080334   \n",
      "1393  1986-06-18 00:00:00-04:00    0.118980    0.120717    0.112901   \n",
      "1644  1987-06-16 00:00:00-04:00    0.288771    0.290510    0.264417   \n",
      "1682  1987-08-10 00:00:00-04:00    0.336174    0.336174    0.318755   \n",
      "6033  2004-11-05 00:00:00-05:00    0.835065    0.837196    0.792140   \n",
      "6716  2007-07-26 00:00:00-04:00    4.442011    4.520860    4.169543   \n",
      "7403  2010-04-19 00:00:00-04:00    7.520455    7.546637    7.360322   \n",
      "9042  2016-10-19 00:00:00-04:00   27.291989   27.410701   26.488942   \n",
      "10114 2021-01-25 00:00:00-05:00  141.372915  143.368943  134.920360   \n",
      "\n",
      "            Close  \n",
      "792      0.085978  \n",
      "1393     0.118980  \n",
      "1644     0.288771  \n",
      "1682     0.336174  \n",
      "6033     0.832934  \n",
      "6716     4.444752  \n",
      "7403     7.521673  \n",
      "9042    27.261730  \n",
      "10114  141.224686  \n"
     ]
    }
   ],
   "source": [
    "# Calculate and append columns for patterns\n",
    "# x.flagType()\n",
    "# x.longFlag()\n",
    "# x.shortFlag()\n",
    "# x.bearishMarubozuFlag()\n",
    "# x.bullishMarubozuFlag()\n",
    "# x.bearishOpeningMarubozuFlag()\n",
    "# x.bullishOpeningMarubozuFlag()\n",
    "# x.bearishClosingMarubozuFlag()\n",
    "# x.bullishClosingMarubozuFlag()\n",
    "# x.SpinningTopFlag()\n",
    "# x.dojiFlag()\n",
    "x.crossDojiFlag(alpha = 1.5)\n",
    "# print(x.data.loc[:, [\"Date\", \"Type\", \"LongFlag\", \"ShortFlag\", \"MarubozuFlag\"]].tail(50))\n",
    "print(x.data.loc[x.data.CrossDojiFlag == 1, [\"Date\", \"Open\",\"High\", \"Low\", \"Close\"]])\n",
    "# Apply Labels"
   ]
  },
  {
   "cell_type": "code",
   "execution_count": 71,
   "metadata": {},
   "outputs": [],
   "source": [
    "# Setup Neural Net\n",
    "\n",
    "# Train Neural Net\n",
    "\n",
    "# Test and Validate Neural Net"
   ]
  },
  {
   "cell_type": "code",
   "execution_count": 72,
   "metadata": {},
   "outputs": [],
   "source": [
    "\n",
    "#x.data.to_csv(\"check.csv\")"
   ]
  }
 ],
 "metadata": {
  "kernelspec": {
   "display_name": "Python 3.10.8 64-bit",
   "language": "python",
   "name": "python3"
  },
  "language_info": {
   "codemirror_mode": {
    "name": "ipython",
    "version": 3
   },
   "file_extension": ".py",
   "mimetype": "text/x-python",
   "name": "python",
   "nbconvert_exporter": "python",
   "pygments_lexer": "ipython3",
   "version": "3.10.8"
  },
  "orig_nbformat": 4,
  "vscode": {
   "interpreter": {
    "hash": "4c03519b2b340be288f6f02438cd3617ba19830dcef51e56d1e36c63a7298229"
   }
  }
 },
 "nbformat": 4,
 "nbformat_minor": 2
}
