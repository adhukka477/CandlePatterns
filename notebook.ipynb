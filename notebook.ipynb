{
 "cells": [
  {
   "cell_type": "code",
   "execution_count": 56,
   "metadata": {},
   "outputs": [
    {
     "name": "stdout",
     "output_type": "stream",
     "text": [
      "The autoreload extension is already loaded. To reload it, use:\n",
      "  %reload_ext autoreload\n"
     ]
    }
   ],
   "source": [
    "%load_ext autoreload\n",
    "%autoreload 2"
   ]
  },
  {
   "cell_type": "code",
   "execution_count": 57,
   "metadata": {},
   "outputs": [],
   "source": [
    "# Import Modules\n",
    "from patterns import *\n",
    "from stock_history import *\n",
    "from metrics import *"
   ]
  },
  {
   "cell_type": "code",
   "execution_count": 58,
   "metadata": {},
   "outputs": [],
   "source": [
    "# Get stock price history\n",
    "x = Patterns(\"AAPL\")\n",
    "x.getHistory()\n"
   ]
  },
  {
   "cell_type": "code",
   "execution_count": 59,
   "metadata": {},
   "outputs": [
    {
     "name": "stderr",
     "output_type": "stream",
     "text": [
      "c:\\Users\\adhukka\\Desktop\\Projects\\dev\\CandlePatterns\\patterns.py:491: RuntimeWarning: divide by zero encountered in double_scalars\n",
      "  (self.data.loc[i, \"High\"] - max_body[i]) / (min_body[i] - self.data.loc[i, \"Low\"])\n",
      "c:\\Users\\adhukka\\Desktop\\Projects\\dev\\CandlePatterns\\patterns.py:491: RuntimeWarning: invalid value encountered in double_scalars\n",
      "  (self.data.loc[i, \"High\"] - max_body[i]) / (min_body[i] - self.data.loc[i, \"Low\"])\n",
      "c:\\Users\\adhukka\\Desktop\\Projects\\dev\\CandlePatterns\\patterns.py:495: RuntimeWarning: invalid value encountered in double_scalars\n",
      "  (max_body[i] - min_body[i]) / (self.data.loc[i, \"High\"] - self.data.loc[i, \"Low\"])\n",
      "c:\\Users\\adhukka\\Desktop\\Projects\\dev\\CandlePatterns\\patterns.py:495: RuntimeWarning: divide by zero encountered in double_scalars\n",
      "  (max_body[i] - min_body[i]) / (self.data.loc[i, \"High\"] - self.data.loc[i, \"Low\"])\n"
     ]
    },
    {
     "name": "stdout",
     "output_type": "stream",
     "text": [
      "                          Date       Open       High        Low      Close\n",
      "7773 2011-10-04 00:00:00-04:00  11.403219  11.623325  10.784303  11.340200\n",
      "9371 2018-02-09 00:00:00-05:00  37.491684  37.687411  35.861402  37.334145\n",
      "9882 2020-02-24 00:00:00-05:00  72.977513  74.676373  71.006143  73.203369\n"
     ]
    }
   ],
   "source": [
    "# Calculate and append columns for patterns\n",
    "# x.flagType()\n",
    "# x.longFlag()\n",
    "# x.shortFlag()\n",
    "# x.bearishMarubozuFlag()\n",
    "# x.bullishMarubozuFlag()\n",
    "# x.bearishOpeningMarubozuFlag()\n",
    "# x.bullishOpeningMarubozuFlag()\n",
    "# x.bearishClosingMarubozuFlag()\n",
    "# x.bullishClosingMarubozuFlag()\n",
    "# x.SpinningTopFlag()\n",
    "# x.dojiFlag()\n",
    "x.invertedHammerFlag(alpha = 2)\n",
    "# print(x.data.loc[:, [\"Date\", \"Type\", \"LongFlag\", \"ShortFlag\", \"MarubozuFlag\"]].tail(50))\n",
    "print(x.data.loc[x.data.InvertedHammerFlag == 1, [\"Date\", \"Open\",\"High\", \"Low\", \"Close\"]])\n",
    "# Apply Labels"
   ]
  },
  {
   "cell_type": "code",
   "execution_count": 60,
   "metadata": {},
   "outputs": [],
   "source": [
    "# Setup Neural Net\n",
    "\n",
    "# Train Neural Net\n",
    "\n",
    "# Test and Validate Neural Net"
   ]
  },
  {
   "cell_type": "code",
   "execution_count": 61,
   "metadata": {},
   "outputs": [],
   "source": [
    "\n",
    "#x.data.to_csv(\"check.csv\")"
   ]
  }
 ],
 "metadata": {
  "kernelspec": {
   "display_name": "Python 3.10.8 64-bit",
   "language": "python",
   "name": "python3"
  },
  "language_info": {
   "codemirror_mode": {
    "name": "ipython",
    "version": 3
   },
   "file_extension": ".py",
   "mimetype": "text/x-python",
   "name": "python",
   "nbconvert_exporter": "python",
   "pygments_lexer": "ipython3",
   "version": "3.10.8"
  },
  "orig_nbformat": 4,
  "vscode": {
   "interpreter": {
    "hash": "4c03519b2b340be288f6f02438cd3617ba19830dcef51e56d1e36c63a7298229"
   }
  }
 },
 "nbformat": 4,
 "nbformat_minor": 2
}
