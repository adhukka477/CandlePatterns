{
 "cells": [
  {
   "cell_type": "code",
   "execution_count": 43,
   "metadata": {},
   "outputs": [
    {
     "name": "stdout",
     "output_type": "stream",
     "text": [
      "The autoreload extension is already loaded. To reload it, use:\n",
      "  %reload_ext autoreload\n"
     ]
    }
   ],
   "source": [
    "%load_ext autoreload\n",
    "%autoreload 2"
   ]
  },
  {
   "cell_type": "code",
   "execution_count": 44,
   "metadata": {},
   "outputs": [],
   "source": [
    "# Import Modules\n",
    "from patterns import *\n",
    "from stock_history import *\n",
    "from metrics import *"
   ]
  },
  {
   "cell_type": "code",
   "execution_count": 45,
   "metadata": {},
   "outputs": [],
   "source": [
    "# Get stock price history\n",
    "x = Patterns(\"AAPL\")\n",
    "x.getHistory()\n"
   ]
  },
  {
   "cell_type": "code",
   "execution_count": 46,
   "metadata": {},
   "outputs": [
    {
     "name": "stderr",
     "output_type": "stream",
     "text": [
      "c:\\Users\\adhukka\\Desktop\\Projects\\dev\\CandlePatterns\\patterns.py:242: RuntimeWarning: divide by zero encountered in double_scalars\n",
      "  (self.data.loc[i, \"High\"] - max_body[i]) / (min_body[i] - self.data.loc[i, \"Low\"])\n",
      "c:\\Users\\adhukka\\Desktop\\Projects\\dev\\CandlePatterns\\patterns.py:242: RuntimeWarning: invalid value encountered in double_scalars\n",
      "  (self.data.loc[i, \"High\"] - max_body[i]) / (min_body[i] - self.data.loc[i, \"Low\"])\n",
      "c:\\Users\\adhukka\\Desktop\\Projects\\dev\\CandlePatterns\\patterns.py:246: RuntimeWarning: divide by zero encountered in divide\n",
      "  body_size / (self.data.loc[i, \"High\"] - self.data.loc[i, \"Low\"]) for i in range(len(self.data))\n",
      "c:\\Users\\adhukka\\Desktop\\Projects\\dev\\CandlePatterns\\patterns.py:246: RuntimeWarning: invalid value encountered in divide\n",
      "  body_size / (self.data.loc[i, \"High\"] - self.data.loc[i, \"Low\"]) for i in range(len(self.data))\n",
      "c:\\Users\\adhukka\\Desktop\\Projects\\dev\\CandlePatterns\\patterns.py:279: RuntimeWarning: divide by zero encountered in double_scalars\n",
      "  (self.data.loc[i, \"High\"] - max_body[i]) / (min_body[i] - self.data.loc[i, \"Low\"])\n",
      "c:\\Users\\adhukka\\Desktop\\Projects\\dev\\CandlePatterns\\patterns.py:279: RuntimeWarning: invalid value encountered in double_scalars\n",
      "  (self.data.loc[i, \"High\"] - max_body[i]) / (min_body[i] - self.data.loc[i, \"Low\"])\n",
      "c:\\Users\\adhukka\\Desktop\\Projects\\dev\\CandlePatterns\\patterns.py:283: RuntimeWarning: invalid value encountered in double_scalars\n",
      "  (max_body[i] - min_body[i]) / (self.data.loc[i, \"High\"] - self.data.loc[i, \"Low\"])\n",
      "c:\\Users\\adhukka\\Desktop\\Projects\\dev\\CandlePatterns\\patterns.py:283: RuntimeWarning: divide by zero encountered in double_scalars\n",
      "  (max_body[i] - min_body[i]) / (self.data.loc[i, \"High\"] - self.data.loc[i, \"Low\"])\n"
     ]
    },
    {
     "name": "stdout",
     "output_type": "stream",
     "text": [
      "                           Date        Open        High         Low  \\\n",
      "557   1983-02-25 00:00:00-05:00    0.167181    0.168917    0.161535   \n",
      "763   1983-12-19 00:00:00-05:00    0.085978    0.086847    0.082939   \n",
      "770   1983-12-29 00:00:00-05:00    0.086847    0.087715    0.084676   \n",
      "866   1984-05-16 00:00:00-04:00    0.110730    0.111598    0.105519   \n",
      "1209  1985-09-24 00:00:00-04:00    0.058622    0.059924    0.057319   \n",
      "...                         ...         ...         ...         ...   \n",
      "10173 2021-04-20 00:00:00-04:00  133.617768  134.122466  130.441098   \n",
      "10423 2022-04-14 00:00:00-04:00  169.851591  170.498673  164.296719   \n",
      "10486 2022-07-18 00:00:00-04:00  150.281626  151.109104  146.253902   \n",
      "10515 2022-08-26 00:00:00-04:00  170.287516  170.766717  163.289116   \n",
      "10561 2022-11-01 00:00:00-04:00  154.823169  155.192551  148.883026   \n",
      "\n",
      "            Close  \n",
      "557      0.162404  \n",
      "763      0.083373  \n",
      "770      0.084676  \n",
      "866      0.105953  \n",
      "1209     0.057319  \n",
      "...           ...  \n",
      "10173  131.727600  \n",
      "10423  164.545593  \n",
      "10486  146.622787  \n",
      "10515  163.349014  \n",
      "10561  150.400497  \n",
      "\n",
      "[93 rows x 5 columns]\n"
     ]
    }
   ],
   "source": [
    "# Calculate and append columns for patterns\n",
    "x.flagType()\n",
    "x.longFlag()\n",
    "x.shortFlag()\n",
    "x.bearishMarubozuFlag()\n",
    "x.bullishMarubozuFlag()\n",
    "x.bearishOpeningMarubozuFlag()\n",
    "x.bullishOpeningMarubozuFlag()\n",
    "x.bearishClosingMarubozuFlag()\n",
    "x.bullishClosingMarubozuFlag()\n",
    "x.SpinningTopFlag()\n",
    "x.dojiFlag()\n",
    "x.bullishEngulfingFlag()\n",
    "x.bearishEngulfingFlag()\n",
    "# print(x.data.loc[:, [\"Date\", \"Type\", \"LongFlag\", \"ShortFlag\", \"MarubozuFlag\"]].tail(50))\n",
    "print(x.data.loc[x.data.BearishEngulfingFlag == -1, [\"Date\", \"Open\",\"High\", \"Low\", \"Close\"]])\n",
    "# Apply Labels"
   ]
  },
  {
   "cell_type": "code",
   "execution_count": null,
   "metadata": {},
   "outputs": [],
   "source": []
  },
  {
   "cell_type": "code",
   "execution_count": 49,
   "metadata": {},
   "outputs": [],
   "source": []
  },
  {
   "cell_type": "code",
   "execution_count": null,
   "metadata": {},
   "outputs": [],
   "source": [
    "\n",
    "#x.data.to_csv(\"check.csv\")"
   ]
  }
 ],
 "metadata": {
  "kernelspec": {
   "display_name": "Python 3.10.8 64-bit",
   "language": "python",
   "name": "python3"
  },
  "language_info": {
   "codemirror_mode": {
    "name": "ipython",
    "version": 3
   },
   "file_extension": ".py",
   "mimetype": "text/x-python",
   "name": "python",
   "nbconvert_exporter": "python",
   "pygments_lexer": "ipython3",
   "version": "3.10.8"
  },
  "orig_nbformat": 4,
  "vscode": {
   "interpreter": {
    "hash": "4c03519b2b340be288f6f02438cd3617ba19830dcef51e56d1e36c63a7298229"
   }
  }
 },
 "nbformat": 4,
 "nbformat_minor": 2
}
