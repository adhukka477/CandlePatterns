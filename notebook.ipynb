{
 "cells": [
  {
   "cell_type": "code",
   "execution_count": 86,
   "metadata": {},
   "outputs": [
    {
     "name": "stdout",
     "output_type": "stream",
     "text": [
      "The autoreload extension is already loaded. To reload it, use:\n",
      "  %reload_ext autoreload\n"
     ]
    }
   ],
   "source": [
    "%load_ext autoreload\n",
    "%autoreload 2"
   ]
  },
  {
   "cell_type": "code",
   "execution_count": 87,
   "metadata": {},
   "outputs": [],
   "source": [
    "# Import Modules\n",
    "from patterns import *\n",
    "from stock_history import *"
   ]
  },
  {
   "cell_type": "code",
   "execution_count": 88,
   "metadata": {},
   "outputs": [],
   "source": [
    "# Get stock price history\n",
    "x = Patterns(\"AAPL\")\n",
    "x.getHistory()\n"
   ]
  },
  {
   "cell_type": "code",
   "execution_count": 89,
   "metadata": {},
   "outputs": [
    {
     "name": "stdout",
     "output_type": "stream",
     "text": [
      "458     1982-10-06 00:00:00-04:00\n",
      "459     1982-10-07 00:00:00-04:00\n",
      "460     1982-10-08 00:00:00-04:00\n",
      "491     1982-11-22 00:00:00-05:00\n",
      "496     1982-11-30 00:00:00-05:00\n",
      "532     1983-01-20 00:00:00-05:00\n",
      "594     1983-04-20 00:00:00-05:00\n",
      "687     1983-08-31 00:00:00-04:00\n",
      "691     1983-09-07 00:00:00-04:00\n",
      "921     1984-08-03 00:00:00-04:00\n",
      "1036    1985-01-17 00:00:00-05:00\n",
      "1070    1985-03-07 00:00:00-05:00\n",
      "1125    1985-05-24 00:00:00-04:00\n",
      "1367    1986-05-12 00:00:00-04:00\n",
      "1445    1986-09-02 00:00:00-04:00\n",
      "1538    1987-01-14 00:00:00-05:00\n",
      "1541    1987-01-19 00:00:00-05:00\n",
      "1731    1987-10-19 00:00:00-04:00\n",
      "2046    1989-01-17 00:00:00-05:00\n",
      "2135    1989-05-24 00:00:00-04:00\n",
      "2763    1991-11-15 00:00:00-05:00\n",
      "2794    1992-01-02 00:00:00-05:00\n",
      "2861    1992-04-07 00:00:00-04:00\n",
      "3155    1993-06-07 00:00:00-04:00\n",
      "3492    1994-10-05 00:00:00-04:00\n",
      "3566    1995-01-20 00:00:00-05:00\n",
      "3602    1995-03-14 00:00:00-05:00\n",
      "3995    1996-10-01 00:00:00-04:00\n",
      "4191    1997-07-11 00:00:00-04:00\n",
      "4206    1997-08-01 00:00:00-04:00\n",
      "4312    1998-01-02 00:00:00-05:00\n",
      "4314    1998-01-06 00:00:00-05:00\n",
      "4746    1999-09-23 00:00:00-04:00\n",
      "4778    1999-11-08 00:00:00-05:00\n",
      "5652    2003-05-05 00:00:00-04:00\n",
      "5653    2003-05-06 00:00:00-04:00\n",
      "5863    2004-03-05 00:00:00-05:00\n",
      "5933    2004-06-16 00:00:00-04:00\n",
      "6019    2004-10-18 00:00:00-04:00\n",
      "6076    2005-01-07 00:00:00-05:00\n",
      "6226    2005-08-12 00:00:00-04:00\n",
      "6269    2005-10-13 00:00:00-04:00\n",
      "6329    2006-01-10 00:00:00-05:00\n",
      "6579    2007-01-09 00:00:00-05:00\n",
      "6719    2007-07-31 00:00:00-04:00\n",
      "7593    2011-01-18 00:00:00-05:00\n",
      "7906    2012-04-16 00:00:00-04:00\n",
      "7907    2012-04-17 00:00:00-04:00\n",
      "8416    2014-04-28 00:00:00-04:00\n",
      "8505    2014-09-03 00:00:00-04:00\n",
      "8750    2015-08-24 00:00:00-04:00\n",
      "9179    2017-05-08 00:00:00-04:00\n",
      "9202    2017-06-09 00:00:00-04:00\n",
      "9368    2018-02-06 00:00:00-05:00\n",
      "10273   2021-09-10 00:00:00-04:00\n",
      "10388   2022-02-24 00:00:00-05:00\n",
      "Name: Date, dtype: datetime64[ns, America/New_York]\n"
     ]
    }
   ],
   "source": [
    "# Calculate and append columns for patterns\n",
    "x.flagType()\n",
    "x.longFlag()\n",
    "x.shortFlag()\n",
    "#print(x.data.loc[:, [\"Date\", \"Type\", \"LongFlag\", \"ShortFlag\"]].tail(50))\n",
    "print(x.data.Date[x.data.LongFlag.values == 1])\n",
    "# Apply Labels"
   ]
  },
  {
   "cell_type": "code",
   "execution_count": 90,
   "metadata": {},
   "outputs": [],
   "source": [
    "# Setup Neural Net\n",
    "\n",
    "# Train Neural Net\n",
    "\n",
    "# Test and Validate Neural Net"
   ]
  },
  {
   "cell_type": "code",
   "execution_count": null,
   "metadata": {},
   "outputs": [],
   "source": [
    "\n"
   ]
  }
 ],
 "metadata": {
  "kernelspec": {
   "display_name": "Python 3.10.8 ('venv')",
   "language": "python",
   "name": "python3"
  },
  "language_info": {
   "codemirror_mode": {
    "name": "ipython",
    "version": 3
   },
   "file_extension": ".py",
   "mimetype": "text/x-python",
   "name": "python",
   "nbconvert_exporter": "python",
   "pygments_lexer": "ipython3",
   "version": "3.10.8"
  },
  "orig_nbformat": 4,
  "vscode": {
   "interpreter": {
    "hash": "8cc3aad154627906b8252fb51fabcf28c7246c9f868706c9d36e8808cb6bf521"
   }
  }
 },
 "nbformat": 4,
 "nbformat_minor": 2
}
