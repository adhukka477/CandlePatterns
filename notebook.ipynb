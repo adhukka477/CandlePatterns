{
 "cells": [
  {
   "cell_type": "code",
   "execution_count": null,
   "metadata": {},
   "outputs": [],
   "source": [
    "%load_ext autoreload\n",
    "%autoreload 2"
   ]
  },
  {
   "cell_type": "code",
   "execution_count": null,
   "metadata": {},
   "outputs": [],
   "source": [
    "# Import Modules\n",
    "from patterns import *\n",
    "from stock_history import *\n",
    "from metrics import *"
   ]
  },
  {
   "cell_type": "code",
   "execution_count": null,
   "metadata": {},
   "outputs": [],
   "source": [
    "# Get stock price history\n",
    "x = Patterns(\"AAPL\")\n",
    "x.getHistory()\n"
   ]
  },
  {
   "cell_type": "code",
   "execution_count": null,
   "metadata": {},
   "outputs": [],
   "source": [
    "# Calculate and append columns for patterns\n",
    "# x.flagType()\n",
    "# x.longFlag()\n",
    "# x.shortFlag()\n",
    "# x.bearishMarubozuFlag()\n",
    "# x.bullishMarubozuFlag()\n",
    "# x.bearishOpeningMarubozuFlag()\n",
    "# x.bullishOpeningMarubozuFlag()\n",
    "# x.bearishClosingMarubozuFlag()\n",
    "# x.bullishClosingMarubozuFlag()\n",
    "# x.SpinningTopFlag()\n",
    "# x.dojiFlag()\n",
    "# x.bullishEngulfingFlag()\n",
    "# x.bearishEngulfingFlag()\n",
    "# x.piercingFlag()\n",
    "# x.darkCloudFlag()\n",
    "# x.bullishHaramiFlag()\n",
    "x.bearishHaramiFlag()\n",
    "# print(x.data.loc[:, [\"Date\", \"Type\", \"LongFlag\", \"ShortFlag\", \"MarubozuFlag\"]].tail(50))\n",
    "print(len(x.data.loc[x.data.BearishHaramiFlag == -1, [\"Date\", \"Open\",\"High\", \"Low\", \"Close\"]]))\n",
    "# Apply Labels"
   ]
  },
  {
   "cell_type": "code",
   "execution_count": null,
   "metadata": {},
   "outputs": [],
   "source": [
    "\n",
    "print(x.data.loc[x.data.BearishHaramiFlag == -1, [\"Date\", \"Open\",\"High\", \"Low\", \"Close\"]])\n",
    "#x.data.to_csv(\"check.csv\")"
   ]
  }
 ],
 "metadata": {
  "kernelspec": {
   "display_name": "Python 3.10.8 ('venv': venv)",
   "language": "python",
   "name": "python3"
  },
  "language_info": {
   "codemirror_mode": {
    "name": "ipython",
    "version": 3
   },
   "file_extension": ".py",
   "mimetype": "text/x-python",
   "name": "python",
   "nbconvert_exporter": "python",
   "pygments_lexer": "ipython3",
   "version": "3.10.8"
  },
  "orig_nbformat": 4,
  "vscode": {
   "interpreter": {
    "hash": "e78a84f02caf0e7de37090e28a6e1e89f277aec1a391a3408dc317be4e13e259"
   }
  }
 },
 "nbformat": 4,
 "nbformat_minor": 2
}
