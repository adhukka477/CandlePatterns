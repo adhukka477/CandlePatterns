{
 "cells": [
  {
   "cell_type": "code",
   "execution_count": 14,
   "metadata": {},
   "outputs": [
    {
     "name": "stdout",
     "output_type": "stream",
     "text": [
      "The autoreload extension is already loaded. To reload it, use:\n",
      "  %reload_ext autoreload\n"
     ]
    }
   ],
   "source": [
    "%load_ext autoreload\n",
    "%autoreload 2"
   ]
  },
  {
   "cell_type": "code",
   "execution_count": 15,
   "metadata": {},
   "outputs": [],
   "source": [
    "# Import Modules\n",
    "from patterns import *\n",
    "from stock_history import *\n",
    "from metrics import *"
   ]
  },
  {
   "cell_type": "code",
   "execution_count": 16,
   "metadata": {},
   "outputs": [],
   "source": [
    "# Get stock price history\n",
    "x = Patterns(\"AAPL\")\n",
    "x.getHistory()\n"
   ]
  },
  {
   "cell_type": "code",
   "execution_count": 17,
   "metadata": {},
   "outputs": [
    {
     "name": "stderr",
     "output_type": "stream",
     "text": [
      "c:\\Users\\Alishan\\Desktop\\Python Projects\\Candle Pattern Analysis\\CandlePatterns\\patterns.py:347: RuntimeWarning: divide by zero encountered in double_scalars\n",
      "  (self.data.loc[i, \"High\"] - max_body[i]) / (min_body[i] - self.data.loc[i, \"Low\"])\n",
      "c:\\Users\\Alishan\\Desktop\\Python Projects\\Candle Pattern Analysis\\CandlePatterns\\patterns.py:347: RuntimeWarning: invalid value encountered in double_scalars\n",
      "  (self.data.loc[i, \"High\"] - max_body[i]) / (min_body[i] - self.data.loc[i, \"Low\"])\n",
      "c:\\Users\\Alishan\\Desktop\\Python Projects\\Candle Pattern Analysis\\CandlePatterns\\patterns.py:351: RuntimeWarning: invalid value encountered in double_scalars\n",
      "  (max_body[i] - min_body[i]) / (self.data.loc[i, \"High\"] - self.data.loc[i, \"Low\"])\n",
      "c:\\Users\\Alishan\\Desktop\\Python Projects\\Candle Pattern Analysis\\CandlePatterns\\patterns.py:351: RuntimeWarning: divide by zero encountered in double_scalars\n",
      "  (max_body[i] - min_body[i]) / (self.data.loc[i, \"High\"] - self.data.loc[i, \"Low\"])\n"
     ]
    },
    {
     "ename": "AttributeError",
     "evalue": "'DataFrame' object has no attribute 'CrossedDojiFlag'",
     "output_type": "error",
     "traceback": [
      "\u001b[1;31m---------------------------------------------------------------------------\u001b[0m",
      "\u001b[1;31mAttributeError\u001b[0m                            Traceback (most recent call last)",
      "Cell \u001b[1;32mIn [17], line 21\u001b[0m\n\u001b[0;32m      1\u001b[0m \u001b[39m# Calculate and append columns for patterns\u001b[39;00m\n\u001b[0;32m      2\u001b[0m \u001b[39m# x.flagType()\u001b[39;00m\n\u001b[0;32m      3\u001b[0m \u001b[39m# x.longFlag()\u001b[39;00m\n\u001b[1;32m   (...)\u001b[0m\n\u001b[0;32m     18\u001b[0m \u001b[39m# x.bearishHaramiFlag()\u001b[39;00m\n\u001b[0;32m     19\u001b[0m \u001b[39m# print(x.data.loc[:, [\"Date\", \"Type\", \"LongFlag\", \"ShortFlag\", \"MarubozuFlag\"]].tail(50))\u001b[39;00m\n\u001b[0;32m     20\u001b[0m x\u001b[39m.\u001b[39mcrossDojiFlag()\n\u001b[1;32m---> 21\u001b[0m \u001b[39mprint\u001b[39m(\u001b[39mlen\u001b[39m(x\u001b[39m.\u001b[39mdata\u001b[39m.\u001b[39mloc[x\u001b[39m.\u001b[39;49mdata\u001b[39m.\u001b[39;49mCrossedDojiFlag \u001b[39m==\u001b[39m \u001b[39m1\u001b[39m, [\u001b[39m\"\u001b[39m\u001b[39mDate\u001b[39m\u001b[39m\"\u001b[39m, \u001b[39m\"\u001b[39m\u001b[39mOpen\u001b[39m\u001b[39m\"\u001b[39m,\u001b[39m\"\u001b[39m\u001b[39mHigh\u001b[39m\u001b[39m\"\u001b[39m, \u001b[39m\"\u001b[39m\u001b[39mLow\u001b[39m\u001b[39m\"\u001b[39m, \u001b[39m\"\u001b[39m\u001b[39mClose\u001b[39m\u001b[39m\"\u001b[39m]]))\n\u001b[0;32m     22\u001b[0m \u001b[39m# Apply Labels\u001b[39;00m\n",
      "File \u001b[1;32mc:\\Users\\Alishan\\Desktop\\Python Projects\\Candle Pattern Analysis\\CandlePatterns\\venv\\lib\\site-packages\\pandas\\core\\generic.py:5902\u001b[0m, in \u001b[0;36mNDFrame.__getattr__\u001b[1;34m(self, name)\u001b[0m\n\u001b[0;32m   5895\u001b[0m \u001b[39mif\u001b[39;00m (\n\u001b[0;32m   5896\u001b[0m     name \u001b[39mnot\u001b[39;00m \u001b[39min\u001b[39;00m \u001b[39mself\u001b[39m\u001b[39m.\u001b[39m_internal_names_set\n\u001b[0;32m   5897\u001b[0m     \u001b[39mand\u001b[39;00m name \u001b[39mnot\u001b[39;00m \u001b[39min\u001b[39;00m \u001b[39mself\u001b[39m\u001b[39m.\u001b[39m_metadata\n\u001b[0;32m   5898\u001b[0m     \u001b[39mand\u001b[39;00m name \u001b[39mnot\u001b[39;00m \u001b[39min\u001b[39;00m \u001b[39mself\u001b[39m\u001b[39m.\u001b[39m_accessors\n\u001b[0;32m   5899\u001b[0m     \u001b[39mand\u001b[39;00m \u001b[39mself\u001b[39m\u001b[39m.\u001b[39m_info_axis\u001b[39m.\u001b[39m_can_hold_identifiers_and_holds_name(name)\n\u001b[0;32m   5900\u001b[0m ):\n\u001b[0;32m   5901\u001b[0m     \u001b[39mreturn\u001b[39;00m \u001b[39mself\u001b[39m[name]\n\u001b[1;32m-> 5902\u001b[0m \u001b[39mreturn\u001b[39;00m \u001b[39mobject\u001b[39;49m\u001b[39m.\u001b[39;49m\u001b[39m__getattribute__\u001b[39;49m(\u001b[39mself\u001b[39;49m, name)\n",
      "\u001b[1;31mAttributeError\u001b[0m: 'DataFrame' object has no attribute 'CrossedDojiFlag'"
     ]
    }
   ],
   "source": [
    "# Calculate and append columns for patterns\n",
    "# x.flagType()\n",
    "# x.longFlag()\n",
    "# x.shortFlag()\n",
    "# x.bearishMarubozuFlag()\n",
    "# x.bullishMarubozuFlag()\n",
    "# x.bearishOpeningMarubozuFlag()\n",
    "# x.bullishOpeningMarubozuFlag()\n",
    "# x.bearishClosingMarubozuFlag()\n",
    "# x.bullishClosingMarubozuFlag()\n",
    "# x.SpinningTopFlag()\n",
    "# x.dojiFlag()\n",
    "# x.bullishEngulfingFlag()\n",
    "# x.bearishEngulfingFlag()\n",
    "# x.piercingFlag()\n",
    "# x.darkCloudFlag()\n",
    "# x.bullishHaramiFlag()\n",
    "# x.bearishHaramiFlag()\n",
    "# print(x.data.loc[:, [\"Date\", \"Type\", \"LongFlag\", \"ShortFlag\", \"MarubozuFlag\"]].tail(50))\n",
    "x.crossDojiFlag()\n",
    "print(len(x.data.loc[x.data.CrossDojiFlag == 1, [\"Date\", \"Open\",\"High\", \"Low\", \"Close\"]]))\n",
    "# Apply Labels"
   ]
  },
  {
   "cell_type": "code",
   "execution_count": 18,
   "metadata": {},
   "outputs": [
    {
     "name": "stdout",
     "output_type": "stream",
     "text": [
      "                           Date        Open        High         Low  \\\n",
      "792   1984-01-31 00:00:00-05:00    0.085978    0.087715    0.080334   \n",
      "1393  1986-06-18 00:00:00-04:00    0.118980    0.120717    0.112901   \n",
      "1644  1987-06-16 00:00:00-04:00    0.288771    0.290510    0.264417   \n",
      "1682  1987-08-10 00:00:00-04:00    0.336174    0.336174    0.318755   \n",
      "6033  2004-11-05 00:00:00-05:00    0.835065    0.837196    0.792140   \n",
      "6716  2007-07-26 00:00:00-04:00    4.442010    4.520859    4.169542   \n",
      "7403  2010-04-19 00:00:00-04:00    7.520457    7.546638    7.360324   \n",
      "9042  2016-10-19 00:00:00-04:00   27.291991   27.410703   26.488944   \n",
      "10114 2021-01-25 00:00:00-05:00  141.372915  143.368943  134.920360   \n",
      "\n",
      "            Close  \n",
      "792      0.085978  \n",
      "1393     0.118980  \n",
      "1644     0.288771  \n",
      "1682     0.336174  \n",
      "6033     0.832934  \n",
      "6716     4.444751  \n",
      "7403     7.521675  \n",
      "9042    27.261732  \n",
      "10114  141.224686  \n"
     ]
    }
   ],
   "source": [
    "\n",
    "print(x.data.loc[x.data.CrossDojiFlag == 1, [\"Date\", \"Open\",\"High\", \"Low\", \"Close\"]])\n",
    "# x.data.to_csv(\"check.csv\")"
   ]
  }
 ],
 "metadata": {
  "kernelspec": {
   "display_name": "Python 3.10.8 ('venv': venv)",
   "language": "python",
   "name": "python3"
  },
  "language_info": {
   "codemirror_mode": {
    "name": "ipython",
    "version": 3
   },
   "file_extension": ".py",
   "mimetype": "text/x-python",
   "name": "python",
   "nbconvert_exporter": "python",
   "pygments_lexer": "ipython3",
   "version": "3.10.8"
  },
  "orig_nbformat": 4,
  "vscode": {
   "interpreter": {
    "hash": "e78a84f02caf0e7de37090e28a6e1e89f277aec1a391a3408dc317be4e13e259"
   }
  }
 },
 "nbformat": 4,
 "nbformat_minor": 2
}
